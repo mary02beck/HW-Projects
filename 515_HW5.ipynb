{
  "nbformat": 4,
  "nbformat_minor": 0,
  "metadata": {
    "colab": {
      "provenance": []
    },
    "kernelspec": {
      "name": "python3",
      "display_name": "Python 3"
    },
    "language_info": {
      "name": "python"
    }
  },
  "cells": [
    {
      "cell_type": "code",
      "source": [
        "import requests, nltk, sklearn.neighbors, sklearn.neural_network, sklearn.tree, wordcloud, textblob, pandas as pd, csv, matplotlib as plt, sklearn.model_selection, sklearn.metrics, joblib, warnings\n",
        "\n",
        "url = \"https://dgoldberg.sdsu.edu/515/kickstarter_data_full.csv\"\n",
        "\n",
        "# Ignore warning messages during neural network training\n",
        "warnings.filterwarnings(\"ignore\")\n",
        "\n",
        "try:\n",
        "    # Load the CSV file directly from the URL\n",
        "    df = pd.read_csv(url, encoding=\"latin-1\")\n",
        "    df['y'] = (df['Status'] == 'Funding Successful').astype(int)\n",
        "    x = df['Description']\n",
        "    y = df['y']\n",
        "\n",
        "    # setting up x train, y train and splitting data\n",
        "    x_train, x_test, y_train, y_test = sklearn.model_selection.train_test_split(x, y, test_size = 0.20, random_state = 0)\n",
        "\n",
        "    # Vectorize the text data\n",
        "    max_features = 1000\n",
        "    vectorizer = sklearn.feature_extraction.text.TfidfVectorizer(max_features=max_features, stop_words='english')\n",
        "    x_train_vec = vectorizer.fit_transform(x_train)\n",
        "    x_test_vec = vectorizer.transform(x_test)\n",
        "\n",
        "    # setting up decision tree and predicting values\n",
        "    clf = sklearn.tree.DecisionTreeClassifier()\n",
        "    clf = clf.fit(x_train_vec, y_train)\n",
        "    predictions = clf.predict(x_test_vec)\n",
        "    dt_accuracy = sklearn.metrics.accuracy_score(y_test, predictions)\n",
        "    print(\"D-Tree Accuracy:\", dt_accuracy)\n",
        "\n",
        "    # setting up KNN and predicting values\n",
        "    clf = sklearn.neighbors.KNeighborsClassifier(5)\n",
        "    clf = clf.fit(x_train_vec, y_train)\n",
        "    predictions = clf.predict(x_test_vec)\n",
        "    knn_accuracy = sklearn.metrics.accuracy_score(y_test, predictions)\n",
        "    print(\"K-Nearest Neighbors Accuracy:\", knn_accuracy)\n",
        "\n",
        "    # setting up NN and predicting values\n",
        "    clf = sklearn.neural_network.MLPClassifier()\n",
        "    clf = clf.fit(x_train_vec, y_train)\n",
        "    predictions = clf.predict(x_test_vec)\n",
        "    nn_accuracy = sklearn.metrics.accuracy_score(y_test, predictions)\n",
        "    print(\"Neural Network Accuracy:\", nn_accuracy)\n",
        "    # most accurate\n",
        "\n",
        "     # Check if NN is the most accurate model\n",
        "    if nn_accuracy == max(dt_accuracy, knn_accuracy, nn_accuracy):\n",
        "     # Print classification report\n",
        "      print(\"Classification Report:\")\n",
        "      print(sklearn.metrics.classification_report(y_test, predictions, target_names = [\"Not Successful\", \"Funding Successful\"]))\n",
        "\n",
        "     # Print confusion matrix\n",
        "      print(\"Confusion Matrix:\")\n",
        "      cm = sklearn.metrics.confusion_matrix(y_test, predictions)\n",
        "      disp = sklearn.metrics.ConfusionMatrixDisplay(cm)\n",
        "      print(cm)\n",
        "      disp.plot()\n",
        "      plt.show()\n",
        "\n",
        "      # Save the most accurate NN model to a file\n",
        "      joblib.dump(clf, \"nn_model.joblib\")\n",
        "\n",
        "except:\n",
        "    print(\"An error occurred\")"
      ],
      "metadata": {
        "colab": {
          "base_uri": "https://localhost:8080/",
          "height": 744
        },
        "id": "MVHWs7-HQR1n",
        "outputId": "9eba91bd-0f5a-4b50-925c-669ddc47d8e6"
      },
      "execution_count": null,
      "outputs": [
        {
          "output_type": "stream",
          "name": "stdout",
          "text": [
            "D-Tree Accuracy: 0.5981473312748126\n",
            "K-Nearest Neighbors Accuracy: 0.6400529333921482\n",
            "Neural Network Accuracy: 0.658579620644023\n",
            "Classification Report:\n",
            "                    precision    recall  f1-score   support\n",
            "\n",
            "    Not Successful       0.71      0.78      0.74      1442\n",
            "Funding Successful       0.54      0.45      0.49       825\n",
            "\n",
            "          accuracy                           0.66      2267\n",
            "         macro avg       0.62      0.61      0.62      2267\n",
            "      weighted avg       0.65      0.66      0.65      2267\n",
            "\n",
            "Confusion Matrix:\n",
            "[[1121  321]\n",
            " [ 453  372]]\n",
            "An error occurred\n"
          ]
        },
        {
          "output_type": "display_data",
          "data": {
            "text/plain": [
              "<Figure size 640x480 with 2 Axes>"
            ],
            "image/png": "[encoded data removed]"
          },
          "metadata": {}
        }
      ]
    },
    {
      "cell_type": "code",
      "source": [
        "# Download the NLTK stopwords\n",
        "nltk.download('stopwords')"
      ],
      "metadata": {
        "colab": {
          "base_uri": "https://localhost:8080/"
        },
        "id": "MUKKiYJw4N8P",
        "outputId": "644524f0-c91f-4097-c70f-7c902f0ae31e"
      },
      "execution_count": null,
      "outputs": [
        {
          "output_type": "stream",
          "name": "stderr",
          "text": [
            "[nltk_data] Downloading package stopwords to /root/nltk_data...\n",
            "[nltk_data]   Package stopwords is already up-to-date!\n"
          ]
        },
        {
          "output_type": "execute_result",
          "data": {
            "text/plain": [
              "True"
            ]
          },
          "metadata": {},
          "execution_count": 10
        }
      ]
    }
  ]
}