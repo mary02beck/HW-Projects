{
  "nbformat": 4,
  "nbformat_minor": 0,
  "metadata": {
    "colab": {
      "provenance": []
    },
    "kernelspec": {
      "name": "python3",
      "display_name": "Python 3"
    },
    "language_info": {
      "name": "python"
    }
  },
  "cells": [
    {
      "cell_type": "code",
      "source": [
        "import json\n",
        "import requests\n",
        "from textblob import TextBlob\n",
        "from wordcloud import WordCloud, STOPWORDS\n",
        "import matplotlib.pyplot as plt\n",
        "import syllables\n",
        "import nltk\n",
        "\n",
        "# function to calculate polarity\n",
        "def calculate_polarity(text):\n",
        "    analysis = TextBlob(text)\n",
        "    return analysis.sentiment.polarity\n",
        "\n",
        "# function to calculate subjectivity\n",
        "def calculate_subjectivity(text):\n",
        "    analysis = TextBlob(text)\n",
        "    return analysis.sentiment.subjectivity\n",
        "\n",
        "# function to calculate FKGL\n",
        "def calculate_fkgl(text):\n",
        "    total_words = len(text.split())\n",
        "    total_syllables = sum(syllables.estimate(word) for word in text.split())\n",
        "    fkgl = 0.39 * (total_words / total_syllables) + 11.8 * (total_syllables / total_words) - 15.59\n",
        "    return fkgl\n",
        "\n",
        "# function to generate word cloud\n",
        "def generate_wordcloud(text):\n",
        "    stopwords = set(STOPWORDS)\n",
        "    wordcloud = WordCloud(width=800, height=400, stopwords=stopwords, background_color='white').generate(text)\n",
        "    plt.figure(figsize=(10, 5))\n",
        "    plt.imshow(wordcloud, interpolation='bilinear')\n",
        "    plt.axis('off')\n",
        "    plt.show()\n",
        "\n",
        "# function to analyze a company's tweets\n",
        "def analyze_company(handle, data, analysis_type):\n",
        "    company_tweets = [tweet[\"Text\"] for tweet in data if tweet[\"Company\"].lower() == handle]\n",
        "\n",
        "    if analysis_type == \"polarity\":\n",
        "        average_polarity = sum(calculate_polarity(tweet) for tweet in company_tweets) / len(company_tweets)\n",
        "        print(f\"{handle}: {average_polarity}\")\n",
        "    elif analysis_type == \"subjectivity\":\n",
        "        average_subjectivity = sum(calculate_subjectivity(tweet) for tweet in company_tweets) / len(company_tweets)\n",
        "        print(f\"{handle}: {average_subjectivity}\")\n",
        "    elif analysis_type == \"fkgl\":\n",
        "        average_fkgl = sum(calculate_fkgl(tweet) for tweet in company_tweets) / len(company_tweets)\n",
        "        print(f\"{handle}: {average_fkgl}\")\n",
        "    elif analysis_type == \"wordcloud\":\n",
        "        text = \" \".join(company_tweets)\n",
        "        generate_wordcloud(text)\n",
        "    else:\n",
        "        print(\"Please enter a valid analysis type\")\n",
        "\n",
        "# main\n",
        "print(\"Welcome to the customer service analyzer!\")\n",
        "\n",
        "while True:\n",
        "    analysis_type = input(\"Which analysis would you like to perform (polarity/subjectivity/FKGL/wordcloud)? \").strip().lower()\n",
        "    if analysis_type not in [\"polarity\", \"subjectivity\", \"fkgl\", \"wordcloud\"]:\n",
        "        print(\"Invalid analysis type. Please choose from 'polarity', 'subjectivity', 'fkgl', or 'wordcloud'.\")\n",
        "        continue\n",
        "\n",
        "    handle = input(\"Which Twitter handle would you like to analyze? \").strip().lower()\n",
        "\n",
        "    if handle in [\"@sprintcare\", \"@askspectrum\", \"@askplaystation\", \"@xboxsupport\", \"@upshelp\", \"@amazonhelp\"]:\n",
        "        # gets data from the URL\n",
        "        url = \"https://dgoldberg.sdsu.edu/515/customer_service_tweets_full.json\"\n",
        "        response = requests.get(url)\n",
        "\n",
        "        # checks for response\n",
        "        if response.status_code == 200:\n",
        "            data = response.json()\n",
        "            analyze_company(handle, data, analysis_type)\n",
        "        else:\n",
        "            print(\"Connection error.\")\n",
        "    else:\n",
        "        print(\"Please enter a valid Twitter handle.\")\n",
        "\n",
        "    another_analysis = input(\"Would you like to run another analysis (yes/no)? \").strip().lower()\n",
        "    text_blob = TextBlob(another_analysis)\n",
        "    # checks for spelling errors\n",
        "    correct_input = text_blob.correct()\n",
        "    if correct_input != \"yes\":\n",
        "        break\n"
      ],
      "metadata": {
        "colab": {
          "base_uri": "https://localhost:8080/"
        },
        "id": "SzcNMvmx2GVO",
        "outputId": "33d30089-318b-4511-dfdc-d3d1f399dbbe"
      },
      "execution_count": null,
      "outputs": [
        {
          "name": "stdout",
          "output_type": "stream",
          "text": [
            "Welcome to the customer service analyzer!\n",
            "Which analysis would you like to perform (polarity/subjectivity/FKGL/wordcloud)? polarity\n",
            "Which Twitter handle would you like to analyze? @AMAZOnhelp\n",
            "@amazonhelp: 0.012632791606541599\n",
            "Would you like to run another analysis (yes/no)? yes\n",
            "Which analysis would you like to perform (polarity/subjectivity/FKGL/wordcloud)? subjectivity\n",
            "Which Twitter handle would you like to analyze? @Amazonhelp\n",
            "@amazonhelp: 0.4195980200817694\n",
            "Would you like to run another analysis (yes/no)? yess\n",
            "Which analysis would you like to perform (polarity/subjectivity/FKGL/wordcloud)? fkgl\n",
            "Which Twitter handle would you like to analyze? @amazonhelp\n",
            "@amazonhelp: 2.8632695153337426\n",
            "Would you like to run another analysis (yes/no)? no\n"
          ]
        }
      ]
    },
    {
      "cell_type": "code",
      "source": [
        "!pip install syllables"
      ],
      "metadata": {
        "colab": {
          "base_uri": "https://localhost:8080/"
        },
        "id": "4x75BOERXiqf",
        "outputId": "45b20804-8eba-474e-edc3-dcefdb55b242"
      },
      "execution_count": null,
      "outputs": [
        {
          "output_type": "stream",
          "name": "stdout",
          "text": [
            "Collecting syllables\n",
            "  Downloading syllables-1.0.9-py3-none-any.whl (15 kB)\n",
            "Collecting cmudict<2.0.0,>=1.0.11 (from syllables)\n",
            "  Downloading cmudict-1.0.15-py3-none-any.whl (939 kB)\n",
            "\u001b[2K     \u001b[90m━━━━━━━━━━━━━━━━━━━━━━━━━━━━━━━━━━━━━━━━\u001b[0m \u001b[32m939.4/939.4 kB\u001b[0m \u001b[31m10.5 MB/s\u001b[0m eta \u001b[36m0:00:00\u001b[0m\n",
            "\u001b[?25hRequirement already satisfied: importlib-metadata<7.0,>=5.1 in /usr/local/lib/python3.10/dist-packages (from syllables) (6.8.0)\n",
            "Collecting importlib-resources<6.0.0,>=5.10.1 (from cmudict<2.0.0,>=1.0.11->syllables)\n",
            "  Downloading importlib_resources-5.13.0-py3-none-any.whl (32 kB)\n",
            "Requirement already satisfied: zipp>=0.5 in /usr/local/lib/python3.10/dist-packages (from importlib-metadata<7.0,>=5.1->syllables) (3.17.0)\n",
            "Installing collected packages: importlib-resources, cmudict, syllables\n",
            "  Attempting uninstall: importlib-resources\n",
            "    Found existing installation: importlib-resources 6.1.1\n",
            "    Uninstalling importlib-resources-6.1.1:\n",
            "      Successfully uninstalled importlib-resources-6.1.1\n",
            "Successfully installed cmudict-1.0.15 importlib-resources-5.13.0 syllables-1.0.9\n"
          ]
        }
      ]
    }
  ]
}